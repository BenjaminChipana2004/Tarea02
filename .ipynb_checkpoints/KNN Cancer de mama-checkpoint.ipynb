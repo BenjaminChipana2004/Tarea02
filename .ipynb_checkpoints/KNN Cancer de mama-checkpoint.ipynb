{
 "cells": [
  {
   "cell_type": "code",
   "execution_count": null,
   "id": "b17cdccf-6905-4fd7-95f7-3af8d6d5fab2",
   "metadata": {},
   "outputs": [],
   "source": [
    "#Importar librerías\n",
    "import pandas as pd\n",
    "import numpy as np\n",
    "import matplotlib.pyplot as plt"
   ]
  },
  {
   "cell_type": "code",
   "execution_count": null,
   "id": "1f11821c-bbf7-4fc3-a3a4-cf2222dfdc95",
   "metadata": {},
   "outputs": [],
   "source": [
    "#Acceder al archivo csv\n",
    "dataframe = pd.read_csv('DSCancerDeMamaSinDatosPerdidos.csv', sep=';')"
   ]
  },
  {
   "cell_type": "code",
   "execution_count": null,
   "id": "95e749b9-b3a9-4f89-bfdb-6da838596041",
   "metadata": {},
   "outputs": [],
   "source": [
    "y=dataframe['SEVERITY']\n",
    "x=dataframe.drop('SEVERITY',axis=1)"
   ]
  },
  {
   "cell_type": "code",
   "execution_count": null,
   "id": "f1f8f0f6-60cd-4b5f-ae7e-c927255f2d9f",
   "metadata": {},
   "outputs": [],
   "source": [
    "#Entrenar el modelo\n",
    "from sklearn.model_selection import train_test_split\n",
    "x_train,x_test,y_train,y_test = train_test_split(x,y,test_size=0.3,random_state=30)\n",
    "\n",
    "from sklearn.neighbors import KNeighborsClassifier\n",
    "knn_mm = KNeighborsClassifier(n_neighbors=3)\n",
    "\n",
    "knn_mm.fit(x_train,y_train)\n",
    "\n",
    "predicciones=knn_mm.predict(x_test)"
   ]
  },
  {
   "cell_type": "code",
   "execution_count": null,
   "id": "9169cc7d-03b9-4b50-b33f-67af231393c1",
   "metadata": {},
   "outputs": [],
   "source": [
    "from flask import Flask, render_template, request"
   ]
  },
  {
   "cell_type": "code",
   "execution_count": null,
   "id": "e267c677-ea8c-4877-b223-4a70ece48d1a",
   "metadata": {},
   "outputs": [],
   "source": [
    "app = Flask(__name__)"
   ]
  },
  {
   "cell_type": "code",
   "execution_count": null,
   "id": "d926f683-0457-45cb-b25a-517ac071a107",
   "metadata": {},
   "outputs": [],
   "source": [
    "@app.route(\"/\", methods=[\"GET\", \"POST\"])\n",
    "def formulario():\n",
    "    resultado = None\n",
    "    if request.method == \"POST\":\n",
    "        numero = int(request.form[\"numero\"])\n",
    "        #Se requiere agregar la función para comprobar la condición del cancer (positivo o negativo)\n",
    "    return render_template(\"formulario.html\", resultado=resultado)"
   ]
  },
  {
   "cell_type": "code",
   "execution_count": null,
   "id": "7acb0634-0e96-451e-8ced-40350c498c42",
   "metadata": {},
   "outputs": [],
   "source": [
    "if __name__ == \"__main__\":\n",
    "    app.run(debug=True, use_reloader=False)"
   ]
  },
  {
   "cell_type": "code",
   "execution_count": null,
   "id": "acdf27a9-daa7-4a3d-a83f-a666e749521e",
   "metadata": {},
   "outputs": [],
   "source": []
  }
 ],
 "metadata": {
  "kernelspec": {
   "display_name": "Python [conda env:base] *",
   "language": "python",
   "name": "conda-base-py"
  },
  "language_info": {
   "codemirror_mode": {
    "name": "ipython",
    "version": 3
   },
   "file_extension": ".py",
   "mimetype": "text/x-python",
   "name": "python",
   "nbconvert_exporter": "python",
   "pygments_lexer": "ipython3",
   "version": "3.12.7"
  }
 },
 "nbformat": 4,
 "nbformat_minor": 5
}
